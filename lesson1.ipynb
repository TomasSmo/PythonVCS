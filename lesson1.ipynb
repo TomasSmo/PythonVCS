{
 "cells": [
  {
   "cell_type": "code",
   "execution_count": 1,
   "source": [
    "kintamasis = 1"
   ],
   "outputs": [],
   "metadata": {}
  },
  {
   "cell_type": "code",
   "execution_count": 2,
   "source": [
    "print(kintamasis)"
   ],
   "outputs": [
    {
     "output_type": "stream",
     "name": "stdout",
     "text": [
      "1\n"
     ]
    }
   ],
   "metadata": {}
  },
  {
   "cell_type": "code",
   "execution_count": 3,
   "source": [
    "kintamsis2 = 5"
   ],
   "outputs": [],
   "metadata": {}
  },
  {
   "cell_type": "code",
   "execution_count": 4,
   "source": [
    "print(kintamsis2)"
   ],
   "outputs": [
    {
     "output_type": "stream",
     "name": "stdout",
     "text": [
      "5\n"
     ]
    }
   ],
   "metadata": {}
  },
  {
   "cell_type": "code",
   "execution_count": 5,
   "source": [
    "text1 = 'Labas'\r\n",
    "print(text1)"
   ],
   "outputs": [
    {
     "output_type": "stream",
     "name": "stdout",
     "text": [
      "Labas\n"
     ]
    }
   ],
   "metadata": {}
  },
  {
   "cell_type": "code",
   "execution_count": 6,
   "source": [
    "text2 = \"Sveikas\"\r\n",
    "print(text2)"
   ],
   "outputs": [
    {
     "output_type": "stream",
     "name": "stdout",
     "text": [
      "Sveikas\n"
     ]
    }
   ],
   "metadata": {}
  },
  {
   "cell_type": "code",
   "execution_count": 7,
   "source": [
    "text3 = \"Sveikas ' labas\"\r\n",
    "print(text3)"
   ],
   "outputs": [
    {
     "output_type": "stream",
     "name": "stdout",
     "text": [
      "Sveikas ' labas\n"
     ]
    }
   ],
   "metadata": {}
  },
  {
   "cell_type": "code",
   "execution_count": 8,
   "source": [
    "text4 = 'Labas \\' sveikas'\r\n",
    "print(text4)"
   ],
   "outputs": [
    {
     "output_type": "stream",
     "name": "stdout",
     "text": [
      "Labas ' sveikas\n"
     ]
    }
   ],
   "metadata": {}
  },
  {
   "cell_type": "code",
   "execution_count": 10,
   "source": [
    "text5 = \"\"\"eiliuotas\r\n",
    "tekstas\r\n",
    "cia \"\"\"\r\n",
    "print(text5)"
   ],
   "outputs": [
    {
     "output_type": "stream",
     "name": "stdout",
     "text": [
      "eiliuotas\n",
      "tekstas\n",
      "cia \n"
     ]
    }
   ],
   "metadata": {}
  },
  {
   "cell_type": "code",
   "execution_count": null,
   "source": [
    "number_symbol = '1'\r\n",
    "number = 1"
   ],
   "outputs": [],
   "metadata": {}
  },
  {
   "cell_type": "code",
   "execution_count": 16,
   "source": [
    "name = 'Tomas'\r\n",
    "surname = \"Smociukas\"\r\n",
    "print(name, surname)\r\n",
    "#f-string\r\n",
    "print(f'Mano vardas yra {name} {surname}') #stengtis naudoti sita printinimo buda"
   ],
   "outputs": [
    {
     "output_type": "stream",
     "name": "stdout",
     "text": [
      "Tomas Smociukas\n",
      "Mano vardas yra Tomas Smociukas\n"
     ]
    }
   ],
   "metadata": {}
  },
  {
   "cell_type": "code",
   "execution_count": 23,
   "source": [
    "text_01 = 'Python makes me really really happy'\r\n",
    "#text_01.endswith('happy')\r\n",
    "print(text_01.upper())\r\n",
    "\r\n",
    "print(text_01.replace('Python', 'PyThOn'))"
   ],
   "outputs": [
    {
     "output_type": "stream",
     "name": "stdout",
     "text": [
      "PYTHON MAKES ME REALLY REALLY HAPPY\n",
      "PyThOn makes me really really happy\n"
     ]
    }
   ],
   "metadata": {}
  },
  {
   "cell_type": "code",
   "execution_count": 35,
   "source": [
    "#Slicing\r\n",
    "sentence = 'Hello World, I am happy to learn Python!'\r\n",
    "print(sentence[0])\r\n",
    "print(sentence[-1])\r\n",
    "print(sentence[13:])\r\n",
    "print(sentence[13:20])\r\n",
    "print(sentence[13:20:2])\r\n",
    "#start:end:step\r\n",
    "\r\n",
    "print(sentence[18:23])\r\n",
    "word_to_find = 'happy'\r\n",
    "print(sentence[sentence.index(word_to_find): sentence.index(word_to_find) + len(word_to_find) ])\r\n",
    "\r\n",
    "print(sentence[::-1])\r\n"
   ],
   "outputs": [
    {
     "output_type": "stream",
     "name": "stdout",
     "text": [
      "H\n",
      "!\n",
      "I am happy to learn Python!\n",
      "I am ha\n",
      "Ia a\n",
      "happy\n",
      "happy\n",
      "!nohtyP nrael ot yppah ma I ,dlroW olleH\n"
     ]
    }
   ],
   "metadata": {}
  },
  {
   "cell_type": "code",
   "execution_count": null,
   "source": [],
   "outputs": [],
   "metadata": {}
  }
 ],
 "metadata": {
  "orig_nbformat": 4,
  "language_info": {
   "name": "python",
   "version": "3.9.7",
   "mimetype": "text/x-python",
   "codemirror_mode": {
    "name": "ipython",
    "version": 3
   },
   "pygments_lexer": "ipython3",
   "nbconvert_exporter": "python",
   "file_extension": ".py"
  },
  "kernelspec": {
   "name": "python3",
   "display_name": "Python 3.9.7 64-bit"
  },
  "interpreter": {
   "hash": "c8d98a4d7b21855fa83e9651ffe8cf94119fccfa842c954a5ce564f04fa47355"
  }
 },
 "nbformat": 4,
 "nbformat_minor": 2
}