{
 "cells": [
  {
   "cell_type": "markdown",
   "metadata": {},
   "source": [
    "Exercises"
   ]
  },
  {
   "cell_type": "code",
   "execution_count": null,
   "metadata": {},
   "outputs": [],
   "source": [
    "def list_function(list_1, list_2):\n",
    "    number_sum = 0\n",
    "    for number in list_2:\n",
    "        if number in list_1:\n",
    "            number_sum += 1\n",
    "    return number_sum"
   ]
  },
  {
   "cell_type": "code",
   "execution_count": null,
   "metadata": {},
   "outputs": [],
   "source": [
    "print(list_function([1, 2], [1, 1, 2, 2, 3, 4, 1,]))"
   ]
  },
  {
   "cell_type": "code",
   "execution_count": null,
   "metadata": {},
   "outputs": [],
   "source": [
    "def some_function(x):\n",
    "    x + 1"
   ]
  },
  {
   "cell_type": "code",
   "execution_count": null,
   "metadata": {},
   "outputs": [],
   "source": [
    "def filter_function(list_1, func):\n",
    "    return func(list_1)"
   ]
  },
  {
   "cell_type": "code",
   "execution_count": null,
   "metadata": {},
   "outputs": [],
   "source": [
    "my_list = [5, 8, 4, 6, 1]\n",
    "filter_function(my_list, sum)"
   ]
  },
  {
   "cell_type": "code",
   "execution_count": 21,
   "metadata": {},
   "outputs": [],
   "source": [
    "def anomaly_function(list_1):\n",
    "    for number1, number2 in zip(list_1[:-1], list_1[1:]):\n",
    "        if number1 + 1 == number2:\n",
    "            print(f\"anomalija nerasta\")\n",
    "        else:\n",
    "            print(f\"rasta anomalija\")\n"
   ]
  },
  {
   "cell_type": "code",
   "execution_count": 22,
   "metadata": {},
   "outputs": [
    {
     "name": "stdout",
     "output_type": "stream",
     "text": [
      "anomalija nerasta\n",
      "anomalija nerasta\n",
      "rasta anomalija\n"
     ]
    }
   ],
   "source": [
    "anomaly_function([17,18,19,21])"
   ]
  },
  {
   "cell_type": "code",
   "execution_count": 32,
   "metadata": {},
   "outputs": [],
   "source": [
    "healthy_products = ['obuolys', 'bananas', 'avokadas', 'agurkas', 'pomidoras']\n",
    "fast_food = ['cipsai', 'hamburgeris', 'kola', 'hotdogas', 'limonadas']\n",
    "quality_of_products = {\n",
    "    'obuolys' : 1,\n",
    "    'bananas' : 1, \n",
    "    'avokadas' : 0.9, \n",
    "    'agurkas' : 0.7, \n",
    "    'pomidoras': 0.8,\n",
    "    'cipsai' : -1,\n",
    "    'hamburgeris' : -0.8, \n",
    "    'kola' : -1, \n",
    "    'hotdogas' : -0.6,\n",
    "    'limonadas' : -0.3\n",
    "}"
   ]
  },
  {
   "cell_type": "code",
   "execution_count": 38,
   "metadata": {},
   "outputs": [],
   "source": [
    "def check_products(product_list):\n",
    "    good_products = []\n",
    "    bad_products = []\n",
    "    neutral_products = []\n",
    "\n",
    "    for product in product_list:\n",
    "        if product in healthy_products:\n",
    "            good_products.append(product)\n",
    "        elif product in fast_food:\n",
    "            bad_products.append(product)\n",
    "        else:\n",
    "            neutral_products.append(product)\n",
    "\n",
    "    print(f\"Healthy products: {good_products}\")\n",
    "    print(f\"Fast food: {bad_products}\")\n",
    "    print(f\"Unknown products: {neutral_products}\")"
   ]
  },
  {
   "cell_type": "code",
   "execution_count": 42,
   "metadata": {},
   "outputs": [],
   "source": [
    "my_products = ['obuolys', \"tapke\", \"kola\", \"hotdogas\"]"
   ]
  },
  {
   "cell_type": "code",
   "execution_count": 44,
   "metadata": {},
   "outputs": [
    {
     "name": "stdout",
     "output_type": "stream",
     "text": [
      "Healthy products: ['obuolys']\n",
      "Fast food: ['kola', 'hotdogas']\n",
      "Unknown products: ['tapke']\n"
     ]
    }
   ],
   "source": [
    "check_products(my_products)"
   ]
  }
 ],
 "metadata": {
  "interpreter": {
   "hash": "c8d98a4d7b21855fa83e9651ffe8cf94119fccfa842c954a5ce564f04fa47355"
  },
  "kernelspec": {
   "display_name": "Python 3.9.7 64-bit",
   "name": "python3"
  },
  "language_info": {
   "codemirror_mode": {
    "name": "ipython",
    "version": 3
   },
   "file_extension": ".py",
   "mimetype": "text/x-python",
   "name": "python",
   "nbconvert_exporter": "python",
   "pygments_lexer": "ipython3",
   "version": "3.9.7"
  },
  "orig_nbformat": 4
 },
 "nbformat": 4,
 "nbformat_minor": 2
}
