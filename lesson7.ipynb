{
 "cells": [
  {
   "cell_type": "markdown",
   "metadata": {},
   "source": [
    "# Classes"
   ]
  },
  {
   "cell_type": "code",
   "execution_count": 1,
   "metadata": {},
   "outputs": [],
   "source": [
    "class Pipe:\n",
    "    def __init__(self, diameter, lenght):\n",
    "        self.diameter = diameter # attribite\n",
    "        self.lenght = lenght # attribite\n",
    "\n",
    "    def __repr__(self):\n",
    "        return f'Pipe with diameter of {self.diameter} and with lenght of {self.lenght}'\n",
    "\n",
    "    def __eq__(self, pipe_2nd):\n",
    "        return self.diameter == pipe_2nd.diameter\n",
    "        \n",
    "    def cross_section(self):  # class method\n",
    "        return (self.diameter / 2) ** 2 * 3.14"
   ]
  },
  {
   "cell_type": "code",
   "execution_count": 2,
   "metadata": {},
   "outputs": [],
   "source": [
    "pipe_1 = Pipe(1, 3)\n",
    "pipe_2 = Pipe(0.5, 3)\n",
    "pipe_3 = Pipe(0.5, 1)"
   ]
  },
  {
   "cell_type": "code",
   "execution_count": 4,
   "metadata": {},
   "outputs": [
    {
     "name": "stdout",
     "output_type": "stream",
     "text": [
      "Pipe with diameter of 1 and with lenght of 3\n"
     ]
    }
   ],
   "source": [
    "print(pipe_1)"
   ]
  },
  {
   "cell_type": "code",
   "execution_count": 6,
   "metadata": {},
   "outputs": [
    {
     "name": "stdout",
     "output_type": "stream",
     "text": [
      "Diameter of first pipe: 1 meter(s)\n",
      "Diameter of second pipe: 0.5 meter(s)\n"
     ]
    }
   ],
   "source": [
    "print(f'Diameter of first pipe: {pipe_1.diameter} meter(s)')\n",
    "print(f'Diameter of second pipe: {pipe_2.diameter} meter(s)')"
   ]
  },
  {
   "cell_type": "code",
   "execution_count": 5,
   "metadata": {},
   "outputs": [
    {
     "name": "stdout",
     "output_type": "stream",
     "text": [
      "0.785\n"
     ]
    }
   ],
   "source": [
    "print(pipe_1.cross_section())"
   ]
  },
  {
   "cell_type": "code",
   "execution_count": 3,
   "metadata": {},
   "outputs": [
    {
     "data": {
      "text/plain": [
       "True"
      ]
     },
     "execution_count": 3,
     "metadata": {},
     "output_type": "execute_result"
    }
   ],
   "source": [
    "pipe_2 == pipe_3 # cia naudojama def __eq__() is Pipe klases"
   ]
  },
  {
   "cell_type": "code",
   "execution_count": 1,
   "metadata": {},
   "outputs": [],
   "source": [
    "class Pipe:\n",
    "    def __init__(self):\n",
    "        pass\n",
    "        \n",
    "    def cross_section(self):\n",
    "        raise NotImplementedError\n",
    "\n",
    "    def flow_rate(self, velocity):\n",
    "        return self.cross_section() * velocity"
   ]
  },
  {
   "cell_type": "code",
   "execution_count": 2,
   "metadata": {},
   "outputs": [],
   "source": [
    "class RoundPipe(Pipe):\n",
    "    def __init__(self, diameter, lenght):\n",
    "        super().__init__()\n",
    "        self.diameter = diameter\n",
    "        self.lenght = lenght\n",
    "\n",
    "    def cross_section(self):\n",
    "        return (self.diameter / 2) ** 2 * 3.14"
   ]
  },
  {
   "cell_type": "code",
   "execution_count": 6,
   "metadata": {},
   "outputs": [],
   "source": [
    "class SquarePipe(Pipe):\n",
    "    def __init__(self, width, height, lenght):\n",
    "        super().__init__()\n",
    "        self.width = width\n",
    "        self.height = height\n",
    "        self.lenght = lenght\n",
    "\n",
    "    def cross_section(self):\n",
    "        return self.width * self.height"
   ]
  },
  {
   "cell_type": "code",
   "execution_count": 5,
   "metadata": {},
   "outputs": [
    {
     "name": "stdout",
     "output_type": "stream",
     "text": [
      "0.785\n",
      "2.355\n"
     ]
    }
   ],
   "source": [
    "pipe_1 = RoundPipe(1, 3)\n",
    "print(pipe_1.cross_section())\n",
    "print(pipe_1.flow_rate(velocity =3))"
   ]
  },
  {
   "cell_type": "code",
   "execution_count": 8,
   "metadata": {},
   "outputs": [
    {
     "name": "stdout",
     "output_type": "stream",
     "text": [
      "2\n",
      "6\n"
     ]
    }
   ],
   "source": [
    "pipe_2 = SquarePipe(1, 2, 3)\n",
    "print(pipe_2.cross_section())\n",
    "print(pipe_2.flow_rate(velocity=3))"
   ]
  },
  {
   "cell_type": "markdown",
   "metadata": {},
   "source": [
    "# Typing in Python"
   ]
  },
  {
   "cell_type": "code",
   "execution_count": 11,
   "metadata": {},
   "outputs": [],
   "source": [
    "def fn(name: str) -> None :\n",
    "    print(name)"
   ]
  },
  {
   "cell_type": "code",
   "execution_count": 12,
   "metadata": {},
   "outputs": [
    {
     "name": "stdout",
     "output_type": "stream",
     "text": [
      "Tomas\n"
     ]
    }
   ],
   "source": [
    "fn('Tomas')"
   ]
  },
  {
   "cell_type": "code",
   "execution_count": 13,
   "metadata": {},
   "outputs": [],
   "source": [
    "import typing\n",
    "\n",
    "def add_to_list(list_1: typing.List[int], add_number: int = 2) -> typing.List[int]:\n",
    "    return [x + add_number for x in list_1]"
   ]
  },
  {
   "cell_type": "code",
   "execution_count": 14,
   "metadata": {},
   "outputs": [
    {
     "data": {
      "text/plain": [
       "[3, 5, 12]"
      ]
     },
     "execution_count": 14,
     "metadata": {},
     "output_type": "execute_result"
    }
   ],
   "source": [
    "add_to_list([1,3,10])"
   ]
  }
 ],
 "metadata": {
  "interpreter": {
   "hash": "c8d98a4d7b21855fa83e9651ffe8cf94119fccfa842c954a5ce564f04fa47355"
  },
  "kernelspec": {
   "display_name": "Python 3.9.7 64-bit",
   "name": "python3"
  },
  "language_info": {
   "codemirror_mode": {
    "name": "ipython",
    "version": 3
   },
   "file_extension": ".py",
   "mimetype": "text/x-python",
   "name": "python",
   "nbconvert_exporter": "python",
   "pygments_lexer": "ipython3",
   "version": "3.9.7"
  },
  "orig_nbformat": 4
 },
 "nbformat": 4,
 "nbformat_minor": 2
}
