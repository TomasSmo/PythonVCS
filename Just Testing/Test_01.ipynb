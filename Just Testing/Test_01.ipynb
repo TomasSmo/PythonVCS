{
 "cells": [
  {
   "cell_type": "markdown",
   "metadata": {},
   "source": [
    "# GUI testing"
   ]
  },
  {
   "cell_type": "markdown",
   "metadata": {},
   "source": [
    "# Hello World program"
   ]
  },
  {
   "cell_type": "code",
   "execution_count": null,
   "metadata": {},
   "outputs": [],
   "source": [
    "from tkinter import *\n",
    "from tkinter import ttk\n",
    "\n",
    "root = Tk()\n",
    "frm = ttk.Frame(root, padding=55)\n",
    "frm.grid()\n",
    "ttk.Label(frm, text=\"Hello World!\").grid(column=0, row=0)\n",
    "ttk.Button(frm, text=\"Quit\", command=root.destroy).grid(column=0, row=1)\n",
    "\n",
    "root.mainloop()"
   ]
  },
  {
   "cell_type": "markdown",
   "metadata": {},
   "source": [
    "# Other stuff"
   ]
  },
  {
   "cell_type": "code",
   "execution_count": 15,
   "metadata": {},
   "outputs": [],
   "source": [
    "import tkinter as tk\n",
    "\n",
    "class App(tk.Frame):\n",
    "    def __init__(self, master=None):\n",
    "        super().__init__(master)\n",
    "        self.pack()\n",
    "\n",
    "# create the application\n",
    "myapp = App()\n",
    "\n",
    "#\n",
    "# here are method calls to the window manager class\n",
    "#\n",
    "myapp.master.title(\"My Do-Nothing Application\")\n",
    "myapp.master.maxsize(1000, 400)\n",
    "\n",
    "# start the program\n",
    "myapp.mainloop()"
   ]
  }
 ],
 "metadata": {
  "interpreter": {
   "hash": "28d86922192e33283a02051c1cc5a591d08c37c373c028de4468dd75fdb485df"
  },
  "kernelspec": {
   "display_name": "Python 3.9.7 64-bit (windows store)",
   "name": "python3"
  },
  "language_info": {
   "codemirror_mode": {
    "name": "ipython",
    "version": 3
   },
   "file_extension": ".py",
   "mimetype": "text/x-python",
   "name": "python",
   "nbconvert_exporter": "python",
   "pygments_lexer": "ipython3",
   "version": "3.9.7"
  },
  "orig_nbformat": 4
 },
 "nbformat": 4,
 "nbformat_minor": 2
}
