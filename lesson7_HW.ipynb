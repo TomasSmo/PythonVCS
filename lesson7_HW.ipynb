{
 "cells": [
  {
   "cell_type": "markdown",
   "metadata": {},
   "source": [
    "# Lesson 7 HW"
   ]
  },
  {
   "cell_type": "code",
   "execution_count": 4,
   "metadata": {},
   "outputs": [],
   "source": [
    "class Car:\n",
    "    def __init__(self, manufacturer, model, horse_power, max_speed):\n",
    "        self.manufacturer = manufacturer\n",
    "        self.model = model\n",
    "        self.horse_power = horse_power\n",
    "        self.max_speed = max_speed\n",
    "\n",
    "    def __repr__(self):\n",
    "        return f'Your car: {self.manufacturer} {self.model} with {self.horse_power} horsepower.'\n",
    "\n",
    "    def race(self):\n",
    "        time = 100 / self.max_speed * 60\n",
    "        return f'Your car at max. speed would beat 100 km race in {round(time, 2)} minutes.'\n",
    "\n",
    "    def count_kw(self):\n",
    "        kw = self.horse_power * 0.745699872\n",
    "        return f'{self.horse_power} hp = {round(kw)} kw'"
   ]
  },
  {
   "cell_type": "code",
   "execution_count": 6,
   "metadata": {},
   "outputs": [],
   "source": [
    "car_1 = Car('Shelby', 'GT500', 760, 280)"
   ]
  },
  {
   "cell_type": "code",
   "execution_count": 7,
   "metadata": {},
   "outputs": [
    {
     "name": "stdout",
     "output_type": "stream",
     "text": [
      "Your car: Shelby GT500 with 760 horsepower.\n",
      "760 hp = 567 kw\n",
      "Your car at max. speed would beat 100 km race in 21.43 minutes.\n"
     ]
    }
   ],
   "source": [
    "print(car_1)\n",
    "print(car_1.count_kw())\n",
    "print(car_1.race())"
   ]
  }
 ],
 "metadata": {
  "interpreter": {
   "hash": "28d86922192e33283a02051c1cc5a591d08c37c373c028de4468dd75fdb485df"
  },
  "kernelspec": {
   "display_name": "Python 3.9.7 64-bit (windows store)",
   "name": "python3"
  },
  "language_info": {
   "codemirror_mode": {
    "name": "ipython",
    "version": 3
   },
   "file_extension": ".py",
   "mimetype": "text/x-python",
   "name": "python",
   "nbconvert_exporter": "python",
   "pygments_lexer": "ipython3",
   "version": "3.9.7"
  },
  "orig_nbformat": 4
 },
 "nbformat": 4,
 "nbformat_minor": 2
}
