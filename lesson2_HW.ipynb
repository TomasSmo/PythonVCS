{
 "cells": [
  {
   "cell_type": "code",
   "execution_count": null,
   "source": [
    "#TASK 1\r\n",
    "\r\n",
    "for i in range(1, 101):\r\n",
    "    if i % 2 == 0 and i % 3 == 0:\r\n",
    "        print('FizzBuzz')\r\n",
    "    elif i % 2 == 0:\r\n",
    "        print('Fizz')\r\n",
    "    elif i % 3 == 0:\r\n",
    "        print('Buzz')\r\n",
    "    else:\r\n",
    "        print(i)"
   ],
   "outputs": [],
   "metadata": {}
  },
  {
   "cell_type": "code",
   "execution_count": null,
   "source": [
    "#TASK 2 \r\n",
    "\r\n",
    "loop = True\r\n",
    "\r\n",
    "while(loop == True):\r\n",
    "\r\n",
    "    user_input = int(input('Please choose a number between 1 - 100: '))\r\n",
    "\r\n",
    "    if user_input <= 1 or user_input >= 100:\r\n",
    "        print('Try again.')\r\n",
    "    elif user_input >= 10:\r\n",
    "        for i in range (1, user_input + 1):\r\n",
    "            if i % 5 != 0:\r\n",
    "                print(i)\r\n",
    "                loop = False\r\n",
    "    else:\r\n",
    "        print(user_input)\r\n",
    "        loop = False"
   ],
   "outputs": [],
   "metadata": {}
  },
  {
   "cell_type": "code",
   "execution_count": null,
   "source": [
    "\r\n",
    "#TASK 3 \r\n",
    "\r\n",
    "a = ['1','2','3','4','5']\r\n",
    "b = ['labas', 'vakaras', 'kokia grazi diena', 'siandien uz lango', '10 laipsniu silumos']\r\n",
    "c = ['100', '200', 40, 10]\r\n",
    "combined_list = a + b + c\r\n",
    "\r\n",
    "print(f'Length of \"a\" list: {len(a)}')\r\n",
    "print(f'Length of \"b\" list: {len(b)}')\r\n",
    "print(f'Length of \"c\" list: {len(c)}')\r\n",
    "print(f'Length of combined list: {len(combined_list)}')\r\n",
    "\r\n",
    "a.sort()\r\n",
    "print(f'Sorted \"a\" list: {a}')\r\n",
    "b.sort()\r\n",
    "print(f'Sorted \"b\" list: {b}')\r\n",
    "c.sort(key=int)\r\n",
    "print(f'Sorted \"c\" list: {c}')\r\n",
    "\r\n",
    "\r\n",
    "# key=lambda x: x[2] | surusiuotu combinuota lista"
   ],
   "outputs": [],
   "metadata": {}
  }
 ],
 "metadata": {
  "orig_nbformat": 4,
  "language_info": {
   "name": "python",
   "version": "3.9.7",
   "mimetype": "text/x-python",
   "codemirror_mode": {
    "name": "ipython",
    "version": 3
   },
   "pygments_lexer": "ipython3",
   "nbconvert_exporter": "python",
   "file_extension": ".py"
  },
  "kernelspec": {
   "name": "python3",
   "display_name": "Python 3.9.7 64-bit"
  },
  "interpreter": {
   "hash": "c8d98a4d7b21855fa83e9651ffe8cf94119fccfa842c954a5ce564f04fa47355"
  }
 },
 "nbformat": 4,
 "nbformat_minor": 2
}