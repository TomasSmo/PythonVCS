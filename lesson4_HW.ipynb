{
 "cells": [
  {
   "cell_type": "code",
   "execution_count": null,
   "metadata": {},
   "outputs": [],
   "source": [
    "#TASK 1\n",
    "\n",
    "def search_for_symbols(word):\n",
    "    special_symbols = \"!@#$%^&*()-+?_=,<>/;'\"\".|\\/[{]}`~\"\n",
    "    letters = 0\n",
    "    numbers = 0\n",
    "    otherSymbols = 0\n",
    "\n",
    "    for symbol in word:\n",
    "        if symbol.isdigit():\n",
    "            numbers += 1 \n",
    "        elif symbol.isalpha():\n",
    "            letters += 1\n",
    "        elif symbol == \" \":\n",
    "            otherSymbols += 0\n",
    "        elif any (c in special_symbols for c in word):\n",
    "            otherSymbols += 1\n",
    "    \n",
    "    print(f\"Your word/sentence is: {word} \\nLetters: {letters}, numbers: {numbers}, special symblos: {otherSymbols}\")\n"
   ]
  },
  {
   "cell_type": "code",
   "execution_count": null,
   "metadata": {},
   "outputs": [],
   "source": [
    "#TASK 1 TEST\n",
    "\n",
    "user_input = input(\"Please enter a word: \")\n",
    "search_for_symbols(user_input)"
   ]
  },
  {
   "cell_type": "code",
   "execution_count": null,
   "metadata": {},
   "outputs": [],
   "source": [
    "#TASK 2\n",
    "\n",
    "def three_digit_function(number1, number2, number3):\n",
    "    number_list = list(range(number1,number2,number3))\n",
    "    \n",
    "    return number_list"
   ]
  },
  {
   "cell_type": "code",
   "execution_count": null,
   "metadata": {},
   "outputs": [],
   "source": [
    "#TASK 2 TEST\n",
    "\n",
    "print(three_digit_function(10, 100, 5))"
   ]
  },
  {
   "cell_type": "code",
   "execution_count": null,
   "metadata": {},
   "outputs": [],
   "source": [
    "#TASK 3 \n",
    "\n",
    "def list_function(list1):\n",
    "    max_value = max(list1)\n",
    "    min_value = min(list1)\n",
    "    \n",
    "    return max_value - min_value"
   ]
  },
  {
   "cell_type": "code",
   "execution_count": null,
   "metadata": {},
   "outputs": [],
   "source": [
    "#TASK 3 TEST\n",
    "\n",
    "print(list_function([5, 18, 72, 66, 99]))\n",
    "print(list_function([1, 5, 6, 10, 4]))"
   ]
  }
 ],
 "metadata": {
  "interpreter": {
   "hash": "28d86922192e33283a02051c1cc5a591d08c37c373c028de4468dd75fdb485df"
  },
  "kernelspec": {
   "display_name": "Python 3.9.7 64-bit (windows store)",
   "name": "python3"
  },
  "language_info": {
   "codemirror_mode": {
    "name": "ipython",
    "version": 3
   },
   "file_extension": ".py",
   "mimetype": "text/x-python",
   "name": "python",
   "nbconvert_exporter": "python",
   "pygments_lexer": "ipython3",
   "version": "3.9.7"
  },
  "orig_nbformat": 4
 },
 "nbformat": 4,
 "nbformat_minor": 2
}
