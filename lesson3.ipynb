{
 "cells": [
  {
   "cell_type": "code",
   "execution_count": null,
   "source": [
    "my_dictionary = {\r\n",
    "    \"name\": \"Darius\",\r\n",
    "    \"year\": 2003,\r\n",
    "    10: \"desimt\",\r\n",
    "    False: \"netiesa\"\r\n",
    "}"
   ],
   "outputs": [],
   "metadata": {}
  },
  {
   "cell_type": "code",
   "execution_count": null,
   "source": [
    "print(my_dictionary)"
   ],
   "outputs": [],
   "metadata": {}
  },
  {
   "cell_type": "code",
   "execution_count": null,
   "source": [
    "print(my_dictionary[\"year\"])"
   ],
   "outputs": [],
   "metadata": {}
  },
  {
   "cell_type": "code",
   "execution_count": null,
   "source": [
    "my_dictionary[10] = 'ten'\r\n",
    "my_dictionary[\"pavarde\"] = \"Smociuku Vaikas\"\r\n",
    "print(my_dictionary)"
   ],
   "outputs": [],
   "metadata": {}
  },
  {
   "cell_type": "code",
   "execution_count": null,
   "source": [
    "my_dictionary.clear()"
   ],
   "outputs": [],
   "metadata": {}
  },
  {
   "cell_type": "code",
   "execution_count": null,
   "source": [
    "print(my_dictionary)"
   ],
   "outputs": [],
   "metadata": {}
  },
  {
   "cell_type": "code",
   "execution_count": null,
   "source": [
    "dict.fromkeys(['vienas', 'du'], 0 )"
   ],
   "outputs": [],
   "metadata": {}
  },
  {
   "cell_type": "code",
   "execution_count": null,
   "source": [
    "my_dictionary.get(\"name\")\r\n",
    "my_dictionary.get(\"hobbies\", \"Key does not exist\")"
   ],
   "outputs": [],
   "metadata": {}
  },
  {
   "cell_type": "code",
   "execution_count": null,
   "source": [
    "for key, value in my_dictionary.items():\r\n",
    "    print(f\"key is {key} and value {value}\")"
   ],
   "outputs": [],
   "metadata": {}
  },
  {
   "cell_type": "code",
   "execution_count": null,
   "source": [
    "for value in my_dictionary.values():\r\n",
    "    print(value)"
   ],
   "outputs": [],
   "metadata": {}
  },
  {
   "cell_type": "code",
   "execution_count": null,
   "source": [
    "for key in my_dictionary.keys():\r\n",
    "    print(key)"
   ],
   "outputs": [],
   "metadata": {}
  },
  {
   "cell_type": "code",
   "execution_count": null,
   "source": [
    "my_dictionary.pop(False)"
   ],
   "outputs": [],
   "metadata": {}
  },
  {
   "cell_type": "code",
   "execution_count": null,
   "source": [
    "print(my_dictionary)"
   ],
   "outputs": [],
   "metadata": {}
  },
  {
   "cell_type": "code",
   "execution_count": null,
   "source": [
    "my_dictionary.setdefault('key', 0)"
   ],
   "outputs": [],
   "metadata": {}
  },
  {
   "cell_type": "code",
   "execution_count": null,
   "source": [
    "tmp_dictionary = {'number' : 15, \"name\": \"Benius\", \"hobbies\" : [\"Basketball\", \"Video Games\"]}\r\n",
    "my_dictionary.update(tmp_dictionary)"
   ],
   "outputs": [],
   "metadata": {}
  },
  {
   "cell_type": "code",
   "execution_count": null,
   "source": [
    "print(my_dictionary)"
   ],
   "outputs": [],
   "metadata": {}
  },
  {
   "cell_type": "code",
   "execution_count": null,
   "source": [
    "my_dictionary[\"hobbies\"][1]"
   ],
   "outputs": [],
   "metadata": {}
  },
  {
   "cell_type": "markdown",
   "source": [
    "Exercises"
   ],
   "metadata": {}
  },
  {
   "cell_type": "code",
   "execution_count": null,
   "source": [
    "car = {\r\n",
    "    \"brand\": \"Ford\",\r\n",
    "    \"model\": \"Mustang\",\r\n",
    "    \"year\": 1964,\r\n",
    "}"
   ],
   "outputs": [],
   "metadata": {}
  },
  {
   "cell_type": "code",
   "execution_count": null,
   "source": [
    "car[\"brand\"]"
   ],
   "outputs": [],
   "metadata": {}
  },
  {
   "cell_type": "code",
   "execution_count": null,
   "source": [
    "len(car)"
   ],
   "outputs": [],
   "metadata": {}
  },
  {
   "cell_type": "code",
   "execution_count": null,
   "source": [
    "car[\"year\"] = 2020\r\n",
    "print(car)"
   ],
   "outputs": [],
   "metadata": {}
  },
  {
   "cell_type": "code",
   "execution_count": null,
   "source": [
    "car.update({\"color\" : 'red', 'used': True})\r\n",
    "print(car)"
   ],
   "outputs": [],
   "metadata": {}
  },
  {
   "cell_type": "code",
   "execution_count": null,
   "source": [
    "#car.pop('brand')\r\n",
    "del car[\"brand\"] #does almost the same as .pop"
   ],
   "outputs": [],
   "metadata": {}
  },
  {
   "cell_type": "code",
   "execution_count": null,
   "source": [
    "print(car)"
   ],
   "outputs": [],
   "metadata": {}
  },
  {
   "cell_type": "code",
   "execution_count": null,
   "source": [
    "car['year'] = None\r\n",
    "print(car)"
   ],
   "outputs": [],
   "metadata": {}
  },
  {
   "cell_type": "markdown",
   "source": [
    "Set"
   ],
   "metadata": {}
  },
  {
   "cell_type": "code",
   "execution_count": null,
   "source": [
    "my_set = {1, 1, 8, 7, 10, 1, 1, 2, 3, 6}\r\n",
    "print(my_set)"
   ],
   "outputs": [],
   "metadata": {}
  },
  {
   "cell_type": "code",
   "execution_count": null,
   "source": [
    "my_set.add(10)\r\n",
    "print(my_set)\r\n",
    "my_set.add(11)\r\n",
    "print(my_set)"
   ],
   "outputs": [],
   "metadata": {}
  },
  {
   "cell_type": "code",
   "execution_count": null,
   "source": [
    "my_set.update({15, 16, 19})\r\n",
    "print(my_set)"
   ],
   "outputs": [],
   "metadata": {}
  },
  {
   "cell_type": "code",
   "execution_count": null,
   "source": [
    "my_set.remove(1)\r\n",
    "print(my_set)\r\n",
    "\r\n",
    "#.remove mes klaida, o .discard nemes klaidu"
   ],
   "outputs": [],
   "metadata": {}
  },
  {
   "cell_type": "code",
   "execution_count": null,
   "source": [
    "string_set = {'a', \"Hi\", \"Car\", 'Tomas', 'Hi'}\r\n",
    "print(string_set)"
   ],
   "outputs": [],
   "metadata": {}
  },
  {
   "cell_type": "code",
   "execution_count": null,
   "source": [
    "my_set_1 = {1, 2, 3, 5}\r\n",
    "my_set_2 = {4, 5, 6, 7}\r\n",
    "print(my_set_1.difference(my_set_2))\r\n",
    "print(my_set_1.intersection(my_set_2))\r\n",
    "print(my_set_1.union(my_set_2))"
   ],
   "outputs": [],
   "metadata": {}
  },
  {
   "cell_type": "code",
   "execution_count": null,
   "source": [
    "my_set_1 = {1, 2, 3, 4, 5, 6, 7}\r\n",
    "my_set_small = {5, 6}\r\n",
    "\r\n",
    "my_set_1.issuperset(my_set_small)"
   ],
   "outputs": [],
   "metadata": {}
  },
  {
   "cell_type": "code",
   "execution_count": null,
   "source": [
    "set([1, 1, 1, 1, 2, 3, 184, 3, 8])"
   ],
   "outputs": [],
   "metadata": {}
  },
  {
   "cell_type": "code",
   "execution_count": null,
   "source": [
    "fruits = {\"apple\", \"banana\", \"cherry\"}\r\n",
    "fruits.add(('nauja reiksme', 5))\r\n",
    "print(fruits)"
   ],
   "outputs": [],
   "metadata": {}
  },
  {
   "cell_type": "code",
   "execution_count": null,
   "source": [
    "fruits.discard('apple')\r\n",
    "fruits.add('watermelon')\r\n",
    "print(fruits)"
   ],
   "outputs": [],
   "metadata": {}
  },
  {
   "cell_type": "code",
   "execution_count": null,
   "source": [
    "fruits.update([\"pear\", \"strawberry\", \"grape\", \"cranberry\", \"blueberry\"])\r\n",
    "print(fruits)"
   ],
   "outputs": [],
   "metadata": {}
  },
  {
   "cell_type": "code",
   "execution_count": null,
   "source": [
    "print(len(fruits))\r\n",
    "fruits.add(\"pear\")\r\n",
    "print(len(fruits))"
   ],
   "outputs": [],
   "metadata": {}
  },
  {
   "cell_type": "code",
   "execution_count": null,
   "source": [
    "my_list = [3, 6, -2, -5, 7, 3]\r\n",
    "max_sandauga = my_list[0] * my_list[1]\r\n",
    "\r\n",
    "for idx in range(1, len(my_list) - 1):\r\n",
    "    if my_list[idx] * my_list[idx + 1] > max_sandauga:\r\n",
    "        max_sandauga = my_list[idx] * my_list[idx + 1]\r\n",
    "\r\n",
    "print(max_sandauga)"
   ],
   "outputs": [],
   "metadata": {}
  },
  {
   "cell_type": "code",
   "execution_count": 80,
   "source": [
    "lyrics= \"\"\"\r\n",
    "Like a bullet from a gun it burns\r\n",
    "When you realize she was never your girl\r\n",
    "It was just your turn\r\n",
    "You got to face your demons, don't matter how much money you earn\r\n",
    "Your niggas said 4L, but the shit got real and you weren't concerned\r\n",
    "The same old story, the world spins round and round fam\r\n",
    "Lessons have to get learned\r\n",
    "Truth has to be told, I don't bend I don't fold\r\n",
    "I lost count how many we sold\r\n",
    "I went silver, I went gold\r\n",
    "Then I went platinum so what's next?\r\n",
    "Supermodels tryna sex, sending nudes on the text\r\n",
    "Can't believe I used to be vex\r\n",
    "See it's too easy to write a sad song about how my dad raise me\r\n",
    "'Cause I'm looking in the mirror and my dad made me\r\n",
    "A real top boy I just can't play the victim\r\n",
    "Been living my life as a kingpin\r\n",
    "I'm calm with the heat in the kitchen\r\n",
    "I was a young boy mum told me what my name really means\r\n",
    "And the power just kicked in\r\n",
    "I found my way home\r\n",
    "Then I saw my granddad's name on the gravestone, the same as mine\r\n",
    "Already dead, nothing to fear, I been here from time\r\n",
    "Chief SK sipping on Palm Wine\r\n",
    "Everyday I laugh 'cause these niggas online\r\n",
    "Another one, here today, gone tomorrow\r\n",
    "Dick riding for some likes and a follow\r\n",
    "Putting the work that's all you need to buss\r\n",
    "Shoutout Lancey, Headie, and J Hus\r\n",
    "Shout 67, oh you see them with us\r\n",
    "We was on tour, bare weed on the bus\r\n",
    "Feds outside, the bus has to push to the next city, gotta rush\r\n",
    "Big plans getting discussed, freedom is a must\r\n",
    "Fuck the police, tell 'em eat my dust\r\n",
    "'Cause still it ain't safe, not even in a world full of cops\r\n",
    "I got bored of asking when is this hurt gonna stop\r\n",
    "We don't want to conversate or confirm with the opps\r\n",
    "It is what it is\r\n",
    "Recently I been learning a lot\r\n",
    "All I know is there's no better feeling\r\n",
    "Than going home and seeing my little girl in the cot, so\r\n",
    "This year we're done talking, forget the bagga chat, it's just action\r\n",
    "Man are trolling to get a reaction\r\n",
    "Everyday it's another distraction\r\n",
    "Gotta fight temptation, can't get lost in the sauce\r\n",
    "Have I got a heart, yeah, of course\r\n",
    "But I had to put my feelings on pause\r\n",
    "'Cause like a bullet from a gun it burns\r\n",
    "When you realize she was never your girl\r\n",
    "It was just your turn\r\n",
    "You got to face your demons, don't matter how much money you earn\r\n",
    "Your niggas said 4L, but the shit got real and you weren't concerned\r\n",
    "The same old story, the world spins round and round fam\r\n",
    "Lessons have to get learned\"\"\""
   ],
   "outputs": [],
   "metadata": {}
  },
  {
   "cell_type": "code",
   "execution_count": 81,
   "source": [
    "print(lyrics.split())\r\n",
    "print(len(lyrics.split()))"
   ],
   "outputs": [
    {
     "output_type": "stream",
     "name": "stdout",
     "text": [
      "['Like', 'a', 'bullet', 'from', 'a', 'gun', 'it', 'burns', 'When', 'you', 'realize', 'she', 'was', 'never', 'your', 'girl', 'It', 'was', 'just', 'your', 'turn', 'You', 'got', 'to', 'face', 'your', 'demons,', \"don't\", 'matter', 'how', 'much', 'money', 'you', 'earn', 'Your', 'niggas', 'said', '4L,', 'but', 'the', 'shit', 'got', 'real', 'and', 'you', \"weren't\", 'concerned', 'The', 'same', 'old', 'story,', 'the', 'world', 'spins', 'round', 'and', 'round', 'fam', 'Lessons', 'have', 'to', 'get', 'learned', 'Truth', 'has', 'to', 'be', 'told,', 'I', \"don't\", 'bend', 'I', \"don't\", 'fold', 'I', 'lost', 'count', 'how', 'many', 'we', 'sold', 'I', 'went', 'silver,', 'I', 'went', 'gold', 'Then', 'I', 'went', 'platinum', 'so', \"what's\", 'next?', 'Supermodels', 'tryna', 'sex,', 'sending', 'nudes', 'on', 'the', 'text', \"Can't\", 'believe', 'I', 'used', 'to', 'be', 'vex', 'See', \"it's\", 'too', 'easy', 'to', 'write', 'a', 'sad', 'song', 'about', 'how', 'my', 'dad', 'raise', 'me', \"'Cause\", \"I'm\", 'looking', 'in', 'the', 'mirror', 'and', 'my', 'dad', 'made', 'me', 'A', 'real', 'top', 'boy', 'I', 'just', \"can't\", 'play', 'the', 'victim', 'Been', 'living', 'my', 'life', 'as', 'a', 'kingpin', \"I'm\", 'calm', 'with', 'the', 'heat', 'in', 'the', 'kitchen', 'I', 'was', 'a', 'young', 'boy', 'mum', 'told', 'me', 'what', 'my', 'name', 'really', 'means', 'And', 'the', 'power', 'just', 'kicked', 'in', 'I', 'found', 'my', 'way', 'home', 'Then', 'I', 'saw', 'my', \"granddad's\", 'name', 'on', 'the', 'gravestone,', 'the', 'same', 'as', 'mine', 'Already', 'dead,', 'nothing', 'to', 'fear,', 'I', 'been', 'here', 'from', 'time', 'Chief', 'SK', 'sipping', 'on', 'Palm', 'Wine', 'Everyday', 'I', 'laugh', \"'cause\", 'these', 'niggas', 'online', 'Another', 'one,', 'here', 'today,', 'gone', 'tomorrow', 'Dick', 'riding', 'for', 'some', 'likes', 'and', 'a', 'follow', 'Putting', 'the', 'work', \"that's\", 'all', 'you', 'need', 'to', 'buss', 'Shoutout', 'Lancey,', 'Headie,', 'and', 'J', 'Hus', 'Shout', '67,', 'oh', 'you', 'see', 'them', 'with', 'us', 'We', 'was', 'on', 'tour,', 'bare', 'weed', 'on', 'the', 'bus', 'Feds', 'outside,', 'the', 'bus', 'has', 'to', 'push', 'to', 'the', 'next', 'city,', 'gotta', 'rush', 'Big', 'plans', 'getting', 'discussed,', 'freedom', 'is', 'a', 'must', 'Fuck', 'the', 'police,', 'tell', \"'em\", 'eat', 'my', 'dust', \"'Cause\", 'still', 'it', \"ain't\", 'safe,', 'not', 'even', 'in', 'a', 'world', 'full', 'of', 'cops', 'I', 'got', 'bored', 'of', 'asking', 'when', 'is', 'this', 'hurt', 'gonna', 'stop', 'We', \"don't\", 'want', 'to', 'conversate', 'or', 'confirm', 'with', 'the', 'opps', 'It', 'is', 'what', 'it', 'is', 'Recently', 'I', 'been', 'learning', 'a', 'lot', 'All', 'I', 'know', 'is', \"there's\", 'no', 'better', 'feeling', 'Than', 'going', 'home', 'and', 'seeing', 'my', 'little', 'girl', 'in', 'the', 'cot,', 'so', 'This', 'year', \"we're\", 'done', 'talking,', 'forget', 'the', 'bagga', 'chat,', \"it's\", 'just', 'action', 'Man', 'are', 'trolling', 'to', 'get', 'a', 'reaction', 'Everyday', \"it's\", 'another', 'distraction', 'Gotta', 'fight', 'temptation,', \"can't\", 'get', 'lost', 'in', 'the', 'sauce', 'Have', 'I', 'got', 'a', 'heart,', 'yeah,', 'of', 'course', 'But', 'I', 'had', 'to', 'put', 'my', 'feelings', 'on', 'pause', \"'Cause\", 'like', 'a', 'bullet', 'from', 'a', 'gun', 'it', 'burns', 'When', 'you', 'realize', 'she', 'was', 'never', 'your', 'girl', 'It', 'was', 'just', 'your', 'turn', 'You', 'got', 'to', 'face', 'your', 'demons,', \"don't\", 'matter', 'how', 'much', 'money', 'you', 'earn', 'Your', 'niggas', 'said', '4L,', 'but', 'the', 'shit', 'got', 'real', 'and', 'you', \"weren't\", 'concerned', 'The', 'same', 'old', 'story,', 'the', 'world', 'spins', 'round', 'and', 'round', 'fam', 'Lessons', 'have', 'to', 'get', 'learned']\n",
      "473\n"
     ]
    }
   ],
   "metadata": {}
  },
  {
   "cell_type": "code",
   "execution_count": 82,
   "source": [
    "filtered_lyrics = (lyrics.lower().replace('the', '').replace('?', \" \").replace('!', ' ').replace('.', ' ').replace(\",\", \" \").replace(\"(\", \" \").replace(\"i'm\", \"i am\").split())"
   ],
   "outputs": [],
   "metadata": {}
  },
  {
   "cell_type": "code",
   "execution_count": null,
   "source": [
    "print(len(filtered_lyrics))"
   ],
   "outputs": [],
   "metadata": {}
  },
  {
   "cell_type": "code",
   "execution_count": null,
   "source": [
    "unique_words = set(filtered_lyrics)\r\n",
    "print(unique_words)\r\n",
    "print(len(unique_words))"
   ],
   "outputs": [],
   "metadata": {}
  },
  {
   "cell_type": "code",
   "execution_count": 83,
   "source": [
    "my_lyrics_dict = {}\r\n",
    "\r\n",
    "for word in unique_words:\r\n",
    "    my_lyrics_dict[word] = filtered_lyrics.count(word)\r\n",
    "\r\n",
    "print(my_lyrics_dict)"
   ],
   "outputs": [
    {
     "output_type": "stream",
     "name": "stdout",
     "text": [
      "{'all': 2, 'believe': 1, 'dead': 1, 'raise': 1, 'life': 1, 'burns': 2, 'kicked': 1, 'gonna': 1, 'turn': 2, 'feeling': 1, 'little': 1, 'demons': 2, 'i': 20, 'your': 8, 'getting': 1, '4l': 2, 'm': 1, 'top': 1, \"that's\": 1, 'heat': 1, 'used': 1, 'headie': 1, 'fear': 1, 'pause': 1, 'lot': 1, 'world': 3, 'asking': 1, 'seeing': 1, 'city': 1, 'young': 1, 'of': 3, 'see': 2, 'opps': 1, 'but': 3, 'cot': 1, 'saw': 1, 'she': 2, 'fold': 1, 'man': 1, 'safe': 1, 'text': 1, 'conversate': 1, 'story': 2, 'stop': 1, 'buss': 1, 'real': 3, 'follow': 1, 'already': 1, 'rush': 1, 'not': 1, 'truth': 1, 'tell': 1, 'boy': 2, 'one': 1, 'found': 1, 'looking': 1, 'push': 1, 'still': 1, 'feds': 1, 'sipping': 1, 'time': 1, 'likes': 1, 'se': 1, 'wine': 1, 'forget': 1, 'hus': 1, 'as': 2, 'living': 1, 'silver': 1, 'sauce': 1, 'spins': 2, 'sex': 1, 'bend': 1, 'here': 2, 'anor': 2, 'lost': 2, 'bullet': 2, 'full': 1, 'what': 2, 'fuck': 1, 'gotta': 2, 'putting': 1, 'calm': 1, 'yeah': 1, 'j': 1, 'face': 2, 'mirror': 1, 'mine': 1, 'many': 1, 'nothing': 1, 'it': 7, \"'em\": 1, \"ain't\": 1, 'get': 4, 'year': 1, 'distraction': 1, 'round': 4, 'so': 2, 'put': 1, 'kitchen': 1, 'gravestone': 1, 'from': 3, 'gold': 1, 'to': 14, 'tomorrow': 1, 'want': 1, 'sold': 1, 'even': 1, 'heart': 1, 'me': 3, 'nudes': 1, 'sending': 1, 'with': 3, 'shout': 1, 'gun': 2, 'been': 3, 'learned': 2, 'cops': 1, 'niggas': 3, 'chat': 1, 'feelings': 1, 'police': 1, '67': 1, 'bus': 2, 'way': 1, 'had': 1, \"weren't\": 2, 'work': 1, 'write': 1, 'play': 1, 'victim': 1, 'reaction': 1, 'confirm': 1, 'big': 1, 'today': 1, 'dad': 2, 'girl': 3, 'riding': 1, 'learning': 1, 'how': 4, 'some': 1, 'and': 9, 'like': 2, 'are': 1, 'fam': 2, 'shit': 2, 'is': 5, 'plans': 1, 'went': 3, 'be': 2, 'matter': 2, 'talking': 1, 'lessons': 2, 'song': 1, 'discussed': 1, 'kingpin': 1, 'home': 2, \"re's\": 1, 'sad': 1, 'vex': 1, 'earn': 2, 'for': 1, 'outside': 1, 'trolling': 1, 'gone': 1, 'when': 3, 'money': 2, 'no': 1, 'action': 1, 'dust': 1, 'must': 1, 'course': 1, 'need': 1, \"don't\": 5, 'online': 1, 'bare': 1, 'know': 1, 'on': 6, 'next': 2, 'tryna': 1, 'better': 1, 'or': 1, 'made': 1, 'n': 2, 'have': 3, 'old': 2, 'hurt': 1, 'weed': 1, \"what's\": 1, 'easy': 1, 'freedom': 1, 'going': 1, 'has': 2, 'we': 3, 'means': 1, 'palm': 1, 'dick': 1, 'shoutout': 1, 'platinum': 1, 'you': 10, 'supermodels': 1, \"we're\": 1, 'just': 5, 'said': 2, 'bagga': 1, 'my': 9, 'temptation': 1, 'was': 6, \"granddad's\": 1, 'everyday': 2, 'much': 2, 'laugh': 1, 'lancey': 1, 'got': 6, 'oh': 1, 'told': 2, 'done': 1, 'sk': 1, 'recently': 1, 'fight': 1, 'chief': 1, 'count': 1, \"it's\": 3, 'too': 1, \"'cause\": 4, 'in': 6, 'realize': 2, 'bored': 1, 'than': 1, \"can't\": 3, 'a': 14, 'concerned': 2, 'name': 2, 'tour': 1, 'about': 1, 'mum': 1, 'am': 2, 'same': 3, 'power': 1, 'eat': 1, 'this': 2, 'never': 2, 'really': 1, 'us': 1}\n"
     ]
    }
   ],
   "metadata": {}
  },
  {
   "cell_type": "code",
   "execution_count": 85,
   "source": [
    "len(unique_words) / len(filtered_lyrics) * 100"
   ],
   "outputs": [
    {
     "output_type": "execute_result",
     "data": {
      "text/plain": [
       "53.98230088495575"
      ]
     },
     "metadata": {},
     "execution_count": 85
    }
   ],
   "metadata": {}
  },
  {
   "cell_type": "code",
   "execution_count": 87,
   "source": [
    "words = ['bob', 'savas', 'medis', 'pasaulis', 'automobilis', 'raketa', 'monitorius', 'arka', \"klaviatura\", 'kamera']"
   ],
   "outputs": [],
   "metadata": {}
  },
  {
   "cell_type": "code",
   "execution_count": 92,
   "source": [
    "count = 0\r\n",
    "\r\n",
    "for word in words:\r\n",
    "    if len(word) > 10:\r\n",
    "        count += 1\r\n",
    "        print(word)\r\n",
    "    if word == word[::-1]:\r\n",
    "        print(f\"Rastas polindromas {word}\")"
   ],
   "outputs": [
    {
     "output_type": "stream",
     "name": "stdout",
     "text": [
      "Rastas polindromas bob\n",
      "Rastas polindromas savas\n",
      "automobilis\n"
     ]
    }
   ],
   "metadata": {}
  },
  {
   "cell_type": "code",
   "execution_count": 90,
   "source": [
    "max(words, key= len)"
   ],
   "outputs": [
    {
     "output_type": "execute_result",
     "data": {
      "text/plain": [
       "'automobilis'"
      ]
     },
     "metadata": {},
     "execution_count": 90
    }
   ],
   "metadata": {}
  },
  {
   "cell_type": "code",
   "execution_count": 91,
   "source": [
    "min(words, key= len)"
   ],
   "outputs": [
    {
     "output_type": "execute_result",
     "data": {
      "text/plain": [
       "'bob'"
      ]
     },
     "metadata": {},
     "execution_count": 91
    }
   ],
   "metadata": {}
  }
 ],
 "metadata": {
  "orig_nbformat": 4,
  "language_info": {
   "name": "python",
   "version": "3.9.7",
   "mimetype": "text/x-python",
   "codemirror_mode": {
    "name": "ipython",
    "version": 3
   },
   "pygments_lexer": "ipython3",
   "nbconvert_exporter": "python",
   "file_extension": ".py"
  },
  "kernelspec": {
   "name": "python3",
   "display_name": "Python 3.9.7 64-bit"
  },
  "interpreter": {
   "hash": "c8d98a4d7b21855fa83e9651ffe8cf94119fccfa842c954a5ce564f04fa47355"
  }
 },
 "nbformat": 4,
 "nbformat_minor": 2
}