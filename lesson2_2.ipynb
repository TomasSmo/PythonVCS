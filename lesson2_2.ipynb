{
 "cells": [
  {
   "cell_type": "code",
   "execution_count": null,
   "metadata": {},
   "outputs": [],
   "source": [
    "#LIST\n",
    "\n",
    "my_list = [1 , True, \"text\", False]\n",
    "print(my_list)"
   ]
  },
  {
   "cell_type": "code",
   "execution_count": null,
   "metadata": {},
   "outputs": [],
   "source": [
    "print(my_list[0])\n",
    "print(len(my_list))"
   ]
  },
  {
   "cell_type": "code",
   "execution_count": null,
   "metadata": {},
   "outputs": [],
   "source": [
    "print(0 in my_list)\n",
    "print('text' in my_list)\n",
    "\n",
    "# my_list.append(5)\n",
    "print(my_list)\n",
    "\n",
    "print(my_list.count(5))\n",
    "\n",
    "my_list.append([1, 2, 3])\n",
    "print(my_list)"
   ]
  },
  {
   "cell_type": "code",
   "execution_count": null,
   "metadata": {},
   "outputs": [],
   "source": [
    "# my_list.extend([1, 2, 3])\n",
    "print(my_list)\n",
    "\n",
    "print(my_list[-10])"
   ]
  },
  {
   "cell_type": "code",
   "execution_count": null,
   "metadata": {},
   "outputs": [],
   "source": [
    "my_list.index(False)"
   ]
  },
  {
   "cell_type": "code",
   "execution_count": null,
   "metadata": {},
   "outputs": [],
   "source": [
    "my_list.insert(3, \"NEW\")\n",
    "print(my_list)"
   ]
  },
  {
   "cell_type": "code",
   "execution_count": null,
   "metadata": {},
   "outputs": [],
   "source": [
    "# my_list.pop() trina viena dalyka\n",
    "print(my_list)"
   ]
  },
  {
   "cell_type": "code",
   "execution_count": null,
   "metadata": {},
   "outputs": [],
   "source": [
    "# my_list.remove(5) TRINA NORIMA DALYKA\n",
    "print(my_list)"
   ]
  },
  {
   "cell_type": "code",
   "execution_count": null,
   "metadata": {},
   "outputs": [],
   "source": [
    "my_list.reverse() # Apvercia lista (gali su kiekvienu paspaudimu apversti)\n",
    "print(my_list)"
   ]
  },
  {
   "cell_type": "code",
   "execution_count": null,
   "metadata": {},
   "outputs": [],
   "source": [
    "print(my_list[::-1]) # Apvercia lista (viena karta)"
   ]
  },
  {
   "cell_type": "code",
   "execution_count": null,
   "metadata": {},
   "outputs": [],
   "source": [
    "my_int_list = [1, 2, 65, 35, 28, 41]\n",
    "my_int_list.sort()\n",
    "print(my_int_list)"
   ]
  },
  {
   "cell_type": "code",
   "execution_count": null,
   "metadata": {},
   "outputs": [],
   "source": [
    "my_string_list = ['a', 'g', 'c', '1']\n",
    "my_string_list.sort()\n",
    "print(my_string_list)"
   ]
  },
  {
   "cell_type": "code",
   "execution_count": null,
   "metadata": {},
   "outputs": [],
   "source": [
    "print(sorted(my_int_list))\n",
    "print(sorted([1, 2, 65, 35, 28, 41]))\n",
    "print(sorted([1, 2, 65, 35, 28, 41], reverse=True))\n"
   ]
  },
  {
   "cell_type": "code",
   "execution_count": null,
   "metadata": {},
   "outputs": [],
   "source": [
    "#SLICING\n",
    "print(my_list[2:4]) #nuo kur iki kur\n",
    "print(my_list[::2]) #kas 2 printina"
   ]
  },
  {
   "cell_type": "code",
   "execution_count": null,
   "metadata": {},
   "outputs": [],
   "source": [
    "#MUTABLE and IMMUTABLE\n",
    "\n",
    "#IMMUTABLE:\n",
    "a = 1 \n",
    "b = a \n",
    "b += 1 \n",
    "print(a)\n",
    "print(b)\n",
    "\n",
    "print(id(a))\n",
    "print(id(b))\n",
    "\n",
    "#MUTABLE\n",
    "\n",
    "list_1 = [1, 2, 3]\n",
    "list_2 = list_1.copy() #shallow copy\n",
    "list_1.append(5)\n",
    "print (list_1)\n",
    "print (list_2)\n",
    "\n",
    "print(id(list_1))\n",
    "print(id(list_2))\n",
    "\n",
    "#DEEP COPY pvz. yra lektoriaus kode, 2-oje paskaitoje."
   ]
  },
  {
   "cell_type": "code",
   "execution_count": null,
   "metadata": {},
   "outputs": [],
   "source": [
    "#UZD\n",
    "50 in [50, 32, 9]\n",
    "20 in [50, 32, 9, '20']"
   ]
  },
  {
   "cell_type": "code",
   "execution_count": null,
   "metadata": {},
   "outputs": [],
   "source": [
    "[1, 2, 3] + [5, 3, 7]"
   ]
  },
  {
   "cell_type": "code",
   "execution_count": null,
   "metadata": {},
   "outputs": [],
   "source": [
    "#TUPLE\n",
    "\n",
    "my_tuple = (1, 2, 3)\n",
    "my_tuple2 = (2, 6, 9)"
   ]
  },
  {
   "cell_type": "code",
   "execution_count": null,
   "metadata": {},
   "outputs": [],
   "source": [
    "print(my_tuple.count(8))\n",
    "print(my_tuple.index(2))"
   ]
  },
  {
   "cell_type": "code",
   "execution_count": null,
   "metadata": {},
   "outputs": [],
   "source": [
    "my_tuple3 = my_tuple + my_tuple2\n",
    "print(my_tuple3)"
   ]
  },
  {
   "cell_type": "code",
   "execution_count": null,
   "metadata": {},
   "outputs": [],
   "source": [
    "tmp = list(my_tuple3)\n",
    "print(tmp)\n",
    "tmp[2] = 1000\n",
    "my_tuple3 = tuple(tmp)\n",
    "print(my_tuple3)"
   ]
  },
  {
   "cell_type": "code",
   "execution_count": null,
   "metadata": {},
   "outputs": [],
   "source": [
    "list_tuple = ([1, 2] , [3, 4])\n",
    "print(list_tuple)\n",
    "list_tuple[0][1] = 100\n",
    "print(list_tuple)\n",
    "print(100 in list_tuple)\n",
    "print([1, 100] in list_tuple)"
   ]
  },
  {
   "cell_type": "code",
   "execution_count": null,
   "metadata": {},
   "outputs": [],
   "source": [
    "max([2, 457, 9572, 87])"
   ]
  },
  {
   "cell_type": "code",
   "execution_count": null,
   "metadata": {},
   "outputs": [],
   "source": [
    "print(type([]))\n",
    "print(type(()))\n"
   ]
  },
  {
   "cell_type": "code",
   "execution_count": null,
   "metadata": {},
   "outputs": [],
   "source": [
    "my_tuple_4 = (1, 2, ['3', 4, 5], [6, [7, (8)]])\n",
    "print(my_tuple_4[-1][-1][-1])"
   ]
  },
  {
   "cell_type": "code",
   "execution_count": null,
   "metadata": {},
   "outputs": [],
   "source": [
    "#EXERCISES\n",
    "\n",
    "tuple_1 = (5, 6, 8)\n",
    "tuple_2 = (5, 32, 9)\n",
    "\n",
    "tuple_final = tuple_1 + tuple_2\n",
    "\n",
    "#..."
   ]
  },
  {
   "cell_type": "code",
   "execution_count": null,
   "metadata": {},
   "outputs": [],
   "source": [
    "#RANGE\n",
    "\n",
    "print(range(0, 101, 2))\n",
    "print(type(range(0, 101, 2)))\n",
    "print(list(range(0, 101, 2)))"
   ]
  },
  {
   "cell_type": "code",
   "execution_count": null,
   "metadata": {},
   "outputs": [],
   "source": [
    "for i in range(10):\n",
    "    print(i)"
   ]
  },
  {
   "cell_type": "code",
   "execution_count": null,
   "metadata": {},
   "outputs": [],
   "source": [
    "#NONE\n",
    "type(None)"
   ]
  },
  {
   "cell_type": "code",
   "execution_count": null,
   "metadata": {},
   "outputs": [],
   "source": [
    "name = ''\n",
    "for i in range(5):\n",
    "    if name == '':\n",
    "        print(f\"variable 'name' had no value (None), assigning name\")\n",
    "        name = input(\"Enter your name: \")\n",
    "    else:\n",
    "         print(f\"variable 'name' has value of {name}\")"
   ]
  },
  {
   "cell_type": "code",
   "execution_count": null,
   "metadata": {},
   "outputs": [],
   "source": [
    "name is None"
   ]
  },
  {
   "cell_type": "code",
   "execution_count": null,
   "metadata": {},
   "outputs": [],
   "source": [
    "#FOR LOOP\n",
    "\n",
    "my_cities = [\"Vilnius\", \"Klaipeda\", \"Palanga\"]\n",
    "for city in my_cities:\n",
    "    #print(city)\n",
    "    print(f\"{city} is fantastic!\")\n",
    "print(\"pabaiga\")\n"
   ]
  },
  {
   "cell_type": "code",
   "execution_count": null,
   "metadata": {},
   "outputs": [],
   "source": [
    "#EXERCISE\n",
    "\n",
    "dienos = ['Pirmadienis', 'Antradienis', 'Treciadienis', 'Ketvirtadienis', 'Penktadienis', 'Sestadienis' , 'Sekmadienis']\n",
    "valandos = [10, 11, 12, 13, 14, 15, 16, 17, 18, 19]\n",
    "\n",
    "kombinacijos = []\n",
    "\n",
    "for day in dienos:\n",
    "    #print(day)\n",
    "    for hour in valandos:\n",
    "        #print(hour)\n",
    "        kombinacijos.append((day, hour))\n",
    "\n",
    "print(kombinacijos)"
   ]
  },
  {
   "cell_type": "code",
   "execution_count": null,
   "metadata": {},
   "outputs": [],
   "source": [
    "#IF\n",
    "\n",
    "name = 'Tomas'\n",
    "year = 2003\n",
    "\n",
    "if name == 'Tomas':\n",
    "    print(f\"Sveikas {name}\")\n",
    "elif name == 'Jonas':\n",
    "    print(f\"{name}\")\n",
    "else:\n",
    "    print(f\"Nepazistamas vardas {name}\")"
   ]
  },
  {
   "cell_type": "code",
   "execution_count": null,
   "metadata": {},
   "outputs": [],
   "source": [
    "#IF EXERCISES\n",
    "\n",
    "for number in range(0, 21):\n",
    "    if number % 3 == 0:\n",
    "        print(number)"
   ]
  },
  {
   "cell_type": "code",
   "execution_count": null,
   "metadata": {},
   "outputs": [],
   "source": [
    "#IF EXERCISES\n",
    "\n",
    "sum = 0\n",
    "\n",
    "for number in range(0, 51):\n",
    "    if (sum + number) % 2 == 0:\n",
    "        sum += number\n",
    "        print(sum) "
   ]
  },
  {
   "cell_type": "code",
   "execution_count": null,
   "metadata": {},
   "outputs": [],
   "source": [
    "#INPUT EXERCISES\n",
    "\n",
    "input_user = int(input(\"Enter a number: \"))\n",
    "\n",
    "for number in range(0, 11):\n",
    "    if input_user ** 2 % 2 != 0:\n",
    "        print(number * input_user)"
   ]
  },
  {
   "cell_type": "code",
   "execution_count": null,
   "metadata": {},
   "outputs": [],
   "source": [
    "#EXTRA EXERCISE\n",
    "\n",
    "dienos = ['Pirmadienis', 'Antradienis', 'Treciadienis', 'Ketvirtadienis', 'Penktadienis', 'Sestadienis' , 'Sekmadienis']\n",
    "valandos = [10, 11, 12, 13, 14, 15, 16, 17, 18, 19]\n",
    "\n",
    "leidziamos_dienos = ['Pirmadienis', 'Treciadienis']\n",
    "kombinacijos = []\n",
    "\n",
    "for diena in dienos:\n",
    "    for valanda in valandos:\n",
    "        if diena in leidziamos_dienos and valanda in range(12, 18):\n",
    "            kombinacijos.append((diena, valanda))\n",
    "print(kombinacijos)\n"
   ]
  },
  {
   "cell_type": "markdown",
   "metadata": {},
   "source": [
    "List comprehensions"
   ]
  },
  {
   "cell_type": "code",
   "execution_count": null,
   "metadata": {},
   "outputs": [],
   "source": [
    "kombinacijos = [(diena, valanda) for diena in dienos for valanda in valandos if diena in leidziamos_dienos and valanda in range(12, 18)]\n",
    "print(kombinacijos)"
   ]
  },
  {
   "cell_type": "code",
   "execution_count": null,
   "metadata": {},
   "outputs": [],
   "source": [
    "vardai = ['Tomas', 'Marius', 'Paulius']\n",
    "vardai_2 = [f\"Sveikas {vardas}\" for vardas in vardai]\n",
    "print(vardai_2)"
   ]
  }
 ],
 "metadata": {
  "interpreter": {
   "hash": "fd95a8939299d3eb1ab567bc28c45a7cae6e0fc72760e4bf2dab2683cef42d88"
  },
  "kernelspec": {
   "display_name": "Python 3.9.7 64-bit",
   "name": "python3"
  },
  "language_info": {
   "codemirror_mode": {
    "name": "ipython",
    "version": 3
   },
   "file_extension": ".py",
   "mimetype": "text/x-python",
   "name": "python",
   "nbconvert_exporter": "python",
   "pygments_lexer": "ipython3",
   "version": "3.9.7"
  },
  "orig_nbformat": 4
 },
 "nbformat": 4,
 "nbformat_minor": 2
}
