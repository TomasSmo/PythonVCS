{
 "cells": [
  {
   "cell_type": "markdown",
   "metadata": {},
   "source": [
    "# Lesson 6 homework"
   ]
  },
  {
   "cell_type": "code",
   "execution_count": 1,
   "metadata": {},
   "outputs": [
    {
     "name": "stdout",
     "output_type": "stream",
     "text": [
      "c:\\Users\\tomas\\Desktop\\VCSPython\\PythonVCS\n"
     ]
    }
   ],
   "source": [
    "import os\n",
    "\n",
    "print(os.getcwd())"
   ]
  },
  {
   "cell_type": "code",
   "execution_count": 2,
   "metadata": {},
   "outputs": [],
   "source": [
    "os.chdir('/Users/tomas/Desktop')"
   ]
  },
  {
   "cell_type": "code",
   "execution_count": 3,
   "metadata": {},
   "outputs": [],
   "source": [
    "os.mkdir('folder_python')"
   ]
  },
  {
   "cell_type": "code",
   "execution_count": 4,
   "metadata": {},
   "outputs": [],
   "source": [
    "os.mkdir('folder_python\\\\test_1')"
   ]
  },
  {
   "cell_type": "code",
   "execution_count": 2,
   "metadata": {},
   "outputs": [],
   "source": [
    "first_text = ['Sveiki', 'Labas', 'Labas vakaras', 'Labas rytas']\n",
    "with open('writing.txt', 'w') as my_file:\n",
    "    for text_line in first_text:\n",
    "        my_file.writelines(text_line + '\\n')"
   ]
  },
  {
   "cell_type": "code",
   "execution_count": 3,
   "metadata": {},
   "outputs": [
    {
     "name": "stdout",
     "output_type": "stream",
     "text": [
      "Sveiki\n",
      "Labas\n",
      "Labas vakaras\n",
      "Labas rytas\n",
      "\n"
     ]
    }
   ],
   "source": [
    "with open('writing.txt', 'r') as my_file:\n",
    "    print(my_file.read())"
   ]
  },
  {
   "cell_type": "code",
   "execution_count": 6,
   "metadata": {},
   "outputs": [
    {
     "name": "stdout",
     "output_type": "stream",
     "text": [
      "TASK COMPLETE\n"
     ]
    }
   ],
   "source": [
    "import shutil\n",
    "\n",
    "src_1 = '/Users/tomas/Desktop/writing.txt'\n",
    "dst_1 = '/Users/tomas/Desktop/writing(copy).txt'\n",
    "try: \n",
    "    shutil.copyfile(src_1, dst_1)\n",
    "except PermissionError as e:\n",
    "    print('Permission Error occurred.')\n",
    "finally:\n",
    "    print('TASK COMPLETE')"
   ]
  },
  {
   "cell_type": "code",
   "execution_count": 10,
   "metadata": {},
   "outputs": [],
   "source": [
    "os.rename('/Users/tomas/Desktop/writing(copy).txt', '/Users/tomas/Desktop/writing_2.txt')"
   ]
  },
  {
   "cell_type": "code",
   "execution_count": 18,
   "metadata": {},
   "outputs": [],
   "source": [
    "def check_if_file_exists(file_path):\n",
    "    if os.path.isfile(file_path) == True:\n",
    "        os.remove(file_path)\n",
    "        print('File deleted.')\n",
    "    else:\n",
    "        print('Unique file.')"
   ]
  },
  {
   "cell_type": "code",
   "execution_count": 19,
   "metadata": {},
   "outputs": [
    {
     "name": "stdout",
     "output_type": "stream",
     "text": [
      "File deleted.\n"
     ]
    }
   ],
   "source": [
    "check_if_file_exists('/Users/tomas/Desktop/writing_2.txt')"
   ]
  },
  {
   "cell_type": "code",
   "execution_count": 21,
   "metadata": {},
   "outputs": [],
   "source": [
    "os.rmdir('/Users/tomas/Desktop/folder_python')"
   ]
  }
 ],
 "metadata": {
  "interpreter": {
   "hash": "c8d98a4d7b21855fa83e9651ffe8cf94119fccfa842c954a5ce564f04fa47355"
  },
  "kernelspec": {
   "display_name": "Python 3.9.7 64-bit",
   "name": "python3"
  },
  "language_info": {
   "codemirror_mode": {
    "name": "ipython",
    "version": 3
   },
   "file_extension": ".py",
   "mimetype": "text/x-python",
   "name": "python",
   "nbconvert_exporter": "python",
   "pygments_lexer": "ipython3",
   "version": "3.9.7"
  },
  "orig_nbformat": 4
 },
 "nbformat": 4,
 "nbformat_minor": 2
}
