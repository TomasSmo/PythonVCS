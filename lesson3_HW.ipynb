{
 "cells": [
  {
   "cell_type": "code",
   "execution_count": 97,
   "source": [
    "# TASK 1\r\n",
    "\r\n",
    "a = set([1, 2, 3, 4, 5, 6, 7, 8, 9, 15])\r\n",
    "b = set([3, 8, 9, 11, 15])\r\n",
    "c = sorted(a.intersection(b))\r\n",
    "\r\n",
    "print(f\"Intersection between a & b: {c}\")"
   ],
   "outputs": [
    {
     "output_type": "stream",
     "name": "stdout",
     "text": [
      "Intersection between a & b: [3, 8, 9, 15]\n"
     ]
    }
   ],
   "metadata": {}
  },
  {
   "cell_type": "code",
   "execution_count": 95,
   "source": [
    "# TASK 2\r\n",
    "\r\n",
    "x = [1, 5, 1, 2, 8, -9, 10, 1, -8, -900, 14, 5, -8, 2, 1, -20, 900, 800, -6, -8, 12, 1]\r\n",
    "unique_numbers = sorted(set(x))\r\n",
    "filtered_numbers = [num for num in unique_numbers if num > 0]\r\n",
    "\r\n",
    "print(f\"Filtered numbers: {filtered_numbers}\")"
   ],
   "outputs": [
    {
     "output_type": "stream",
     "name": "stdout",
     "text": [
      "Filtered numbers: [1, 2, 5, 8, 10, 12, 14, 800, 900]\n"
     ]
    }
   ],
   "metadata": {}
  },
  {
   "cell_type": "code",
   "execution_count": 93,
   "source": [
    "# TASK 3\r\n",
    "\r\n",
    "x = { \r\n",
    "    \"cost_price\": 32.67,\r\n",
    "    \"sell_price\": 45.00,\r\n",
    "    \"inventory\": 1212 \r\n",
    "}\r\n",
    "\r\n",
    "profit = x[\"sell_price\"] * x[\"inventory\"] - x[\"cost_price\"] * x[\"inventory\"]\r\n",
    "print(f\"Profit: {profit} eur.\")\r\n"
   ],
   "outputs": [
    {
     "output_type": "stream",
     "name": "stdout",
     "text": [
      "Profit: 14943.96 eur.\n"
     ]
    }
   ],
   "metadata": {}
  }
 ],
 "metadata": {
  "orig_nbformat": 4,
  "language_info": {
   "name": "python",
   "version": "3.9.7",
   "mimetype": "text/x-python",
   "codemirror_mode": {
    "name": "ipython",
    "version": 3
   },
   "pygments_lexer": "ipython3",
   "nbconvert_exporter": "python",
   "file_extension": ".py"
  },
  "kernelspec": {
   "name": "python3",
   "display_name": "Python 3.9.7 64-bit"
  },
  "interpreter": {
   "hash": "c8d98a4d7b21855fa83e9651ffe8cf94119fccfa842c954a5ce564f04fa47355"
  }
 },
 "nbformat": 4,
 "nbformat_minor": 2
}