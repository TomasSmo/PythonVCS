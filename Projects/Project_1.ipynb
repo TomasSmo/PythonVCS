{
 "cells": [
  {
   "cell_type": "markdown",
   "metadata": {},
   "source": [
    "# Project_1"
   ]
  },
  {
   "cell_type": "markdown",
   "metadata": {},
   "source": [
    "For my laptop: /Users/tomas/Desktop/translated_data.txt\n",
    "\n",
    "For my desktop: /Users/T/Desktop/translated_data.txt"
   ]
  },
  {
   "cell_type": "code",
   "execution_count": 10,
   "metadata": {},
   "outputs": [
    {
     "ename": "ModuleNotFoundError",
     "evalue": "No module named 'pyttsx3'",
     "output_type": "error",
     "traceback": [
      "\u001b[1;31m---------------------------------------------------------------------------\u001b[0m",
      "\u001b[1;31mModuleNotFoundError\u001b[0m                       Traceback (most recent call last)",
      "\u001b[1;32m~\\AppData\\Local\\Temp/ipykernel_18516/2515848785.py\u001b[0m in \u001b[0;36m<module>\u001b[1;34m\u001b[0m\n\u001b[0;32m      1\u001b[0m \u001b[1;32mimport\u001b[0m \u001b[0mos\u001b[0m\u001b[1;33m\u001b[0m\u001b[1;33m\u001b[0m\u001b[0m\n\u001b[1;32m----> 2\u001b[1;33m \u001b[1;32mimport\u001b[0m \u001b[0mpyttsx3\u001b[0m\u001b[1;33m\u001b[0m\u001b[1;33m\u001b[0m\u001b[0m\n\u001b[0m\u001b[0;32m      3\u001b[0m \u001b[1;32mfrom\u001b[0m \u001b[0mgoogletrans\u001b[0m \u001b[1;32mimport\u001b[0m \u001b[0mTranslator\u001b[0m\u001b[1;33m\u001b[0m\u001b[1;33m\u001b[0m\u001b[0m\n\u001b[0;32m      4\u001b[0m \u001b[1;33m\u001b[0m\u001b[0m\n\u001b[0;32m      5\u001b[0m \u001b[0mtranslator\u001b[0m \u001b[1;33m=\u001b[0m \u001b[0mTranslator\u001b[0m\u001b[1;33m(\u001b[0m\u001b[1;33m)\u001b[0m\u001b[1;33m\u001b[0m\u001b[1;33m\u001b[0m\u001b[0m\n",
      "\u001b[1;31mModuleNotFoundError\u001b[0m: No module named 'pyttsx3'"
     ]
    }
   ],
   "source": [
    "import os\n",
    "import pyttsx3\n",
    "from googletrans import Translator\n",
    "\n",
    "translator = Translator()\n",
    "engine = pyttsx3.init()\n",
    "\n",
    "def translate_user_input():\n",
    "    user_input = input(\"Please enter a word/sentence\")\n",
    "    translated_data = translator.translate(user_input, src='lt')\n",
    "    translation_dict = {\n",
    "        user_input: translated_data.text\n",
    "    }\n",
    "\n",
    "    return translation_dict\n",
    "\n",
    "def print_data_to_file():\n",
    "    func = translate_user_input()    \n",
    "\n",
    "    with open('/Users/T/Desktop/translated_data.txt', 'a') as f:\n",
    "        for key in func.keys():\n",
    "            for value in func.values():\n",
    "                f.writelines(f' {key} ==> {value}\\n')\n",
    "\n",
    "def delete_data():\n",
    "    loop = True\n",
    "    my_file = open('/Users/T/Desktop/translated_data.txt', 'r+')\n",
    "    \n",
    "    while loop == True:\n",
    "        user_choice = input(\"Enter a number. To pass: 0, to erase file: 1.\")\n",
    "\n",
    "        if user_choice == '0':\n",
    "            loop = False\n",
    "        elif user_choice == '1':\n",
    "            my_file.truncate(0)\n",
    "            loop = False\n",
    "        else:\n",
    "            print(f'Choice \"{user_choice}\" not supported.')\n",
    "\n",
    "def convert_to_speech():                                    # So far only works for single words\n",
    "    f = open('/Users/T/Desktop/translated_data.txt', 'r')   \n",
    "    content = f.read()\n",
    "    content_list = content.split()\n",
    "    engine.setProperty('rate', 170)\n",
    "    engine.say(content_list[-1])\n",
    "    engine.runAndWait()\n",
    "\n",
    "def translation():\n",
    "    loop = True\n",
    "\n",
    "    while loop == True:\n",
    "        print_data_to_file()\n",
    "        user_choice = input(\"Do you want to hear the pronunciation? Yes: 0, no: 1\")\n",
    "        \n",
    "        if user_choice == '0':\n",
    "            convert_to_speech()\n",
    "        elif user_choice == '1':\n",
    "            pass\n",
    "        else:\n",
    "            print(f'Choice {user_choice} not supported.')\n",
    "\n",
    "        delete_option = input(\"Do you want to delete everything from your file? Yes: 0, no: 1\")\n",
    "\n",
    "        if delete_option == '0':\n",
    "            delete_data()\n",
    "        elif delete_option == '1':\n",
    "            pass\n",
    "        else:\n",
    "            print(f'Choice {delete_option} not supported.')\n",
    "\n",
    "        again_option = input(\"Do you want to translate again? Yes: 0, no: 1\")\n",
    "\n",
    "        if again_option == '0':\n",
    "            pass\n",
    "        elif again_option == '1':\n",
    "            break\n",
    "        else:\n",
    "            print(f'Choice {again_option} not supported.')\n",
    "    \n",
    "    print(f'Check \"translated_data.txt\" for your translations :).')\n"
   ]
  },
  {
   "cell_type": "code",
   "execution_count": null,
   "metadata": {},
   "outputs": [],
   "source": [
    "translation()"
   ]
  }
 ],
 "metadata": {
  "interpreter": {
   "hash": "fd95a8939299d3eb1ab567bc28c45a7cae6e0fc72760e4bf2dab2683cef42d88"
  },
  "kernelspec": {
   "display_name": "Python 3.9.7 64-bit",
   "name": "python3"
  },
  "language_info": {
   "codemirror_mode": {
    "name": "ipython",
    "version": 3
   },
   "file_extension": ".py",
   "mimetype": "text/x-python",
   "name": "python",
   "nbconvert_exporter": "python",
   "pygments_lexer": "ipython3",
   "version": "3.9.7"
  },
  "orig_nbformat": 4
 },
 "nbformat": 4,
 "nbformat_minor": 2
}
