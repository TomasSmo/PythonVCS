{
 "cells": [
  {
   "cell_type": "markdown",
   "metadata": {},
   "source": [
    "# Project_1"
   ]
  },
  {
   "cell_type": "markdown",
   "metadata": {},
   "source": [
    "For my laptop: /Users/tomas/Desktop/translated_data.txt\n",
    "\n",
    "For my desktop: /Users/T/Desktop/translated_data.txt"
   ]
  },
  {
   "cell_type": "code",
   "execution_count": 1,
   "metadata": {},
   "outputs": [],
   "source": [
    "import os\n",
    "import pyttsx3\n",
    "from googletrans import Translator\n",
    "\n",
    "translator = Translator()\n",
    "engine = pyttsx3.init()\n",
    "\n",
    "def translate_user_input():\n",
    "    user_input = input(\"Please enter a word/sentence\")\n",
    "    translated_data = translator.translate(user_input, src='lt')\n",
    "    translation_dict = {\n",
    "        user_input: translated_data.text\n",
    "    }\n",
    "\n",
    "    return translation_dict\n",
    "\n",
    "def print_data_to_file():\n",
    "    func = translate_user_input()    \n",
    "\n",
    "    with open('/Users/tomas/Desktop/translated_data.txt', 'a') as f:\n",
    "        for key in func.keys():\n",
    "            for value in func.values():\n",
    "                f.writelines(f' {key} ==> {value}\\n')\n",
    "\n",
    "def delete_data():\n",
    "    loop = True\n",
    "    my_file = open('/Users/tomas/Desktop/translated_data.txt', 'r+')\n",
    "    \n",
    "    while loop == True:\n",
    "        user_choice = input(\"Enter a number. To pass: 0, to erase file: 1.\")\n",
    "\n",
    "        if user_choice == '0':\n",
    "            loop = False\n",
    "        elif user_choice == '1':\n",
    "            my_file.truncate(0)\n",
    "            loop = False\n",
    "        else:\n",
    "            print(f'Choice \"{user_choice}\" not supported.')\n",
    "\n",
    "def convert_to_speech():                                    # So far only works for single words\n",
    "    f = open('/Users/tomas/Desktop/translated_data.txt', 'r')   \n",
    "    content = f.read()\n",
    "    content_list = content.split()\n",
    "    engine.setProperty('rate', 170)\n",
    "    engine.say(content_list[-1])\n",
    "    engine.runAndWait()\n",
    "\n",
    "def translation():\n",
    "    loop = True\n",
    "\n",
    "    while loop == True:\n",
    "        print_data_to_file()\n",
    "        user_choice = input(\"Do you want to hear the pronunciation? Yes: 0, no: 1\")\n",
    "        \n",
    "        if user_choice == '0':\n",
    "            convert_to_speech()\n",
    "        elif user_choice == '1':\n",
    "            pass\n",
    "        else:\n",
    "            print(f'Choice {user_choice} not supported.')\n",
    "\n",
    "        delete_option = input(\"Do you want to delete everything from your file? Yes: 0, no: 1\")\n",
    "\n",
    "        if delete_option == '0':\n",
    "            delete_data()\n",
    "        elif delete_option == '1':\n",
    "            pass\n",
    "        else:\n",
    "            print(f'Choice {delete_option} not supported.')\n",
    "\n",
    "        again_option = input(\"Do you want to translate again? Yes: 0, no: 1\")\n",
    "\n",
    "        if again_option == '0':\n",
    "            pass\n",
    "        elif again_option == '1':\n",
    "            break\n",
    "        else:\n",
    "            print(f'Choice {again_option} not supported.')\n",
    "    \n",
    "    print(f'Check \"translated_data.txt\" for your translations :).')\n"
   ]
  },
  {
   "cell_type": "code",
   "execution_count": 5,
   "metadata": {},
   "outputs": [
    {
     "name": "stdout",
     "output_type": "stream",
     "text": [
      "Check \"translated_data.txt\" for your translations :).\n"
     ]
    }
   ],
   "source": [
    "translation()"
   ]
  }
 ],
 "metadata": {
  "interpreter": {
   "hash": "c8d98a4d7b21855fa83e9651ffe8cf94119fccfa842c954a5ce564f04fa47355"
  },
  "kernelspec": {
   "display_name": "Python 3.9.7 64-bit",
   "name": "python3"
  },
  "language_info": {
   "codemirror_mode": {
    "name": "ipython",
    "version": 3
   },
   "file_extension": ".py",
   "mimetype": "text/x-python",
   "name": "python",
   "nbconvert_exporter": "python",
   "pygments_lexer": "ipython3",
   "version": "3.9.7"
  },
  "orig_nbformat": 4
 },
 "nbformat": 4,
 "nbformat_minor": 2
}
